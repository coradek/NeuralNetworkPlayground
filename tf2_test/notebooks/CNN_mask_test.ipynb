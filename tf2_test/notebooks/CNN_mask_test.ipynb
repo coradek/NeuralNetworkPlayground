{
 "cells": [
  {
   "cell_type": "code",
   "execution_count": 1,
   "metadata": {},
   "outputs": [
    {
     "name": "stderr",
     "output_type": "stream",
     "text": [
      "/opt/anaconda3/lib/python3.6/site-packages/h5py/__init__.py:36: FutureWarning: Conversion of the second argument of issubdtype from `float` to `np.floating` is deprecated. In future, it will be treated as `np.float64 == np.dtype(float).type`.\n",
      "  from ._conv import register_converters as _register_converters\n"
     ]
    }
   ],
   "source": [
    "import numpy as np\n",
    "import tensorflow as tf\n",
    "import tensorflow_datasets as tfds\n",
    "\n",
    "from matplotlib import pyplot as plt\n",
    "\n",
    "from tensorflow.keras.datasets import mnist\n",
    "from tensorflow.python.keras.utils import to_categorical"
   ]
  },
  {
   "cell_type": "code",
   "execution_count": 2,
   "metadata": {},
   "outputs": [
    {
     "data": {
      "text/plain": [
       "tfds.core.DatasetInfo(\n",
       "    name='mnist',\n",
       "    version=1.0.0,\n",
       "    description='The MNIST database of handwritten digits.',\n",
       "    urls=['https://storage.googleapis.com/cvdf-datasets/mnist/'],\n",
       "    features=FeaturesDict({\n",
       "        'image': Image(shape=(28, 28, 1), dtype=tf.uint8),\n",
       "        'label': ClassLabel(shape=(), dtype=tf.int64, num_classes=10),\n",
       "    }),\n",
       "    total_num_examples=70000,\n",
       "    splits={\n",
       "        'test': 10000,\n",
       "        'train': 60000,\n",
       "    },\n",
       "    supervised_keys=('image', 'label'),\n",
       "    citation=\"\"\"@article{lecun2010mnist,\n",
       "      title={MNIST handwritten digit database},\n",
       "      author={LeCun, Yann and Cortes, Corinna and Burges, CJ},\n",
       "      journal={ATT Labs [Online]. Available: http://yann. lecun. com/exdb/mnist},\n",
       "      volume={2},\n",
       "      year={2010}\n",
       "    }\"\"\",\n",
       "    redistribution_info=,\n",
       ")"
      ]
     },
     "execution_count": 2,
     "metadata": {},
     "output_type": "execute_result"
    }
   ],
   "source": [
    "def _normalize_img(img, label):\n",
    "    img = tf.cast(img, tf.float32) / 255.\n",
    "    return (img, label)\n",
    "\n",
    "\n",
    "\n",
    "#     temp = np.zeros((batch_size, num_classes))\n",
    "#     temp[np.arange(batch_size), label] = 1\n",
    "\n",
    "def _encode_label(img, label):\n",
    "    num_classes = 10\n",
    "#     batch_size = label.shape[0]\n",
    "#     batch_size = 32\n",
    "\n",
    "#     label = tf.convert_to_tensor(temp, np.float32)\n",
    "    print(img)\n",
    "    print(label.get_serialized_info())\n",
    "    label.numpy()\n",
    "#     label = to_categorical(label, num_classes)\n",
    "#     print(label)\n",
    "\n",
    "    return (img, label)\n",
    "\n",
    "\n",
    "data_train, metadata = tfds.load('mnist', \n",
    "                       split='test', \n",
    "#                        split=tfds.Split.TRAIN.subsplit(tfds.percent[:1]),\n",
    "                       with_info=True,\n",
    "                       as_supervised=True)\n",
    "data_train = (data_train # ['train']\n",
    "                  .shuffle(200)\n",
    "                  .batch(32)\n",
    "                  .map(_normalize_img)\n",
    "#                   .map(_encode_label)\n",
    "             )\n",
    "\n",
    "metadata"
   ]
  },
  {
   "cell_type": "markdown",
   "metadata": {},
   "source": [
    "# Numpy formatted Mnist data"
   ]
  },
  {
   "cell_type": "code",
   "execution_count": 3,
   "metadata": {},
   "outputs": [
    {
     "name": "stdout",
     "output_type": "stream",
     "text": [
      "(60000, 28, 28, 1)\n",
      "(10000, 28, 28, 1)\n",
      "(60000, 10)\n",
      "(10000, 10)\n",
      "\n"
     ]
    }
   ],
   "source": [
    "IMG_SHAPE = (28, 28, 1)\n",
    "NUM_CLASSES = 10\n",
    "img_rows = IMG_SHAPE[0]\n",
    "img_cols = IMG_SHAPE[1]\n",
    "\n",
    "## Load Data:\n",
    "(x_train, y_train), (x_test, y_test) = mnist.load_data()\n",
    "# data = np.load(path_data)\n",
    "# (x_train, y_train), (x_test, y_test) = (data[\"x_train\"], data[\"y_train\"]), (data[\"x_test\"], data[\"y_test\"])\n",
    "\n",
    "# Normalize and Reshape Data:\n",
    "x_train = x_train.astype('float32') / 255.\n",
    "x_test = x_test.astype('float32') / 255.\n",
    "\n",
    "y_train = to_categorical(y_train, NUM_CLASSES)\n",
    "y_test = to_categorical(y_test, NUM_CLASSES)\n",
    "\n",
    "x_train = x_train.reshape(x_train.shape[0], img_rows, img_cols, 1)\n",
    "x_test = x_test.reshape(x_test.shape[0], img_rows, img_cols, 1)\n",
    "# input_shape = (img_rows, img_cols, 1)\n",
    "\n",
    "print(x_train.shape)\n",
    "print(x_test.shape)\n",
    "\n",
    "print(y_train.shape)\n",
    "print(y_test.shape)\n",
    "print()"
   ]
  },
  {
   "cell_type": "markdown",
   "metadata": {},
   "source": [
    "# Masking Experiment"
   ]
  },
  {
   "cell_type": "code",
   "execution_count": 106,
   "metadata": {},
   "outputs": [
    {
     "data": {
      "image/png": "[encoded data removed]",
      "text/plain": [
       "<Figure size 432x288 with 1 Axes>"
      ]
     },
     "metadata": {},
     "output_type": "display_data"
    },
    {
     "data": {
      "image/png": "[encoded data removed]",
      "text/plain": [
       "<Figure size 432x288 with 1 Axes>"
      ]
     },
     "metadata": {},
     "output_type": "display_data"
    }
   ],
   "source": [
    "def show(img):\n",
    "    plt.imshow(img, cmap=\"gray\")\n",
    "    plt.show()\n",
    "\n",
    "test_img = x_train[np.random.randint(0,100)][:,:,0]\n",
    "\n",
    "show(test_img)\n",
    "\n",
    "mask = np.random.random(test_img.shape)\n",
    "alpha = .7\n",
    "mask = alpha*mask\n",
    "\n",
    "temp = (mask + test_img)\n",
    "temp = temp/np.max(temp)\n",
    "\n",
    "show(temp)\n",
    "\n",
    "# show(np.exp(temp*(1+test_img)))"
   ]
  },
  {
   "cell_type": "markdown",
   "metadata": {},
   "source": [
    "# Look at Data"
   ]
  },
  {
   "cell_type": "code",
   "execution_count": null,
   "metadata": {},
   "outputs": [],
   "source": [
    "for item in data_train.take(3):\n",
    "    print(type(item))\n",
    "    print(item[0].shape, item[1].shape)"
   ]
  },
  {
   "cell_type": "code",
   "execution_count": null,
   "metadata": {},
   "outputs": [],
   "source": [
    "for sample in data_train.take(1):  # Only take a single example\n",
    "    image, label = sample[0][0], sample[1][0]\n",
    "    plt.imshow(image.numpy()[:, :, 0].astype(np.float32), cmap=plt.get_cmap(\"gray\"))\n",
    "    print(\"Label: %d\" % label.numpy())"
   ]
  },
  {
   "cell_type": "code",
   "execution_count": 109,
   "metadata": {},
   "outputs": [
    {
     "name": "stdout",
     "output_type": "stream",
     "text": [
      "Train on 60000 samples\n",
      "Epoch 1/3\n",
      "60000/60000 [==============================] - 10s 159us/sample - loss: 1.8868 - accuracy: 0.3814\n",
      "Epoch 2/3\n",
      "60000/60000 [==============================] - 9s 149us/sample - loss: 1.7258 - accuracy: 0.4730\n",
      "Epoch 3/3\n",
      "60000/60000 [==============================] - 9s 148us/sample - loss: 1.6497 - accuracy: 0.5128\n"
     ]
    },
    {
     "data": {
      "text/plain": [
       "<tensorflow.python.keras.callbacks.History at 0x7f642a8d6fd0>"
      ]
     },
     "execution_count": 109,
     "metadata": {},
     "output_type": "execute_result"
    }
   ],
   "source": [
    "## THIS WORKS!\n",
    "class MiniModel(tf.keras.Model):\n",
    "\n",
    "    def __init__(self, kernel_size, num_classes):\n",
    "        super(MiniModel, self).__init__(kernel_size,)\n",
    "        \n",
    "        self.kernel_size = kernel_size\n",
    "        self.num_classes = num_classes\n",
    "        \n",
    "    def build(self, input_shapes):\n",
    "        self.conv1 = tf.keras.layers.Conv2D(16, self.kernel_size)\n",
    "        self.mp1 = tf.keras.layers.MaxPooling2D(pool_size=(2, 2))\n",
    "        self.bnrm1 = tf.keras.layers.BatchNormalization()\n",
    "        self.conv2 = tf.keras.layers.Conv2D(16, self.kernel_size)\n",
    "        self.mp2 = tf.keras.layers.MaxPooling2D(pool_size=(2, 2))\n",
    "        self.bnrm2 = tf.keras.layers.BatchNormalization()\n",
    "        self.global_pool = tf.keras.layers.GlobalAveragePooling2D()\n",
    "        self.classifier = tf.keras.layers.Dense(self.num_classes, activation='softmax')\n",
    "\n",
    "    def call(self, inputs, training=False):\n",
    "\n",
    "        x = self.conv1(inputs)\n",
    "        x = self.mp1(x)\n",
    "        x = self.bnrm1(x)\n",
    "        x = self.conv2(x)\n",
    "        x = self.mp2(x)\n",
    "        x = self.bnrm2(x)\n",
    "        x = self.global_pool(x)\n",
    "        return self.classifier(x)\n",
    "\n",
    "    \n",
    "kernel_size = (3, 3)\n",
    "# kernel_size = (9, 9)\n",
    "\n",
    "# optimizer = tf.keras.optimizers.Adam(learning_rate=.01)\n",
    "optimizer='adagrad'\n",
    "\n",
    "\n",
    "model = MiniModel(kernel_size, 10)\n",
    "model.compile(loss=tf.keras.losses.CategoricalCrossentropy(),\n",
    "              optimizer=optimizer, \n",
    "              metrics=['accuracy'])\n",
    "\n",
    "\n",
    "        \n",
    "        \n",
    "        \n",
    "# model = SimpleCNN().cnn\n",
    "\n",
    "# model.fit(data_train, epochs=5)\n",
    "# xx, yy = data_train.take(10000)\n",
    "\n",
    "# model.fit_generator(data_train, epochs=3)\n",
    "# model.fit(data_train, epochs=3)\n",
    "\n",
    "model.fit(x_train, y_train, batch_size=32, epochs=3)"
   ]
  },
  {
   "cell_type": "code",
   "execution_count": null,
   "metadata": {},
   "outputs": [],
   "source": [
    "# for ii, item in enumerate(data_train):\n",
    "#     if ii > 5:\n",
    "#         break\n",
    "#     print(type(item))\n",
    "#     print(item[0].shape, item[1].shape)\n",
    "\n",
    "for ii, (xx, yy) in enumerate(data_train):\n",
    "    if ii > 5:\n",
    "        break\n",
    "    print(xx.shape, yy.shape)"
   ]
  },
  {
   "cell_type": "code",
   "execution_count": null,
   "metadata": {},
   "outputs": [],
   "source": [
    "data_list = [xx, yy for (xx, yy) in data_train]\n",
    "data_list[:3]\n",
    "# xx.shape"
   ]
  },
  {
   "cell_type": "code",
   "execution_count": 115,
   "metadata": {},
   "outputs": [
    {
     "data": {
      "text/plain": [
       "<tf.Tensor: id=1029211, shape=(), dtype=int32, numpy=30>"
      ]
     },
     "execution_count": 115,
     "metadata": {},
     "output_type": "execute_result"
    }
   ],
   "source": [
    "class Foo(tf.keras.layers.Layer):\n",
    "    def __init__(self, x):\n",
    "        super(Foo, self).__init__()\n",
    "        self.x = x\n",
    "    \n",
    "    def call(self, y):\n",
    "        return self.x * y\n",
    "    \n",
    "foo = Foo(10)\n",
    "\n",
    "foo(3)"
   ]
  },
  {
   "cell_type": "code",
   "execution_count": null,
   "metadata": {},
   "outputs": [],
   "source": []
  }
 ],
 "metadata": {
  "kernelspec": {
   "display_name": "Python 3",
   "language": "python",
   "name": "python3"
  },
  "language_info": {
   "codemirror_mode": {
    "name": "ipython",
    "version": 3
   },
   "file_extension": ".py",
   "mimetype": "text/x-python",
   "name": "python",
   "nbconvert_exporter": "python",
   "pygments_lexer": "ipython3",
   "version": "3.6.5"
  }
 },
 "nbformat": 4,
 "nbformat_minor": 2
}

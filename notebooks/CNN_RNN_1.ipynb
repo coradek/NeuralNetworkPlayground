{
 "cells": [
  {
   "cell_type": "code",
   "execution_count": null,
   "metadata": {},
   "outputs": [],
   "source": [
    "%load_ext autoreload\n",
    "%autoreload 2\n",
    "\n",
    "import numpy as np\n",
    "from matplotlib import pyplot as plt\n",
    "from keras.utils import to_categorical\n",
    "from src.dataset_builders.cnn_rnn_data import CnnRnnData\n",
    "from src import cnn_rnn as nn\n",
    "\n",
    "def show(arr):\n",
    "    plt.imshow(arr, cmap=\"gray\")\n",
    "    plt.show()\n",
    "\n",
    "(x_train, y_train), (x_test, y_test) = CnnRnnData().pair_data"
   ]
  },
  {
   "cell_type": "code",
   "execution_count": null,
   "metadata": {},
   "outputs": [],
   "source": [
    "from src.nn_settings.cnn_rnn_config import Config\n",
    "\n",
    "input_encoding = x_train.reshape(-1, 28, 56, 1)\n",
    "output_encoding = to_categorical(y_train)\n",
    "\n",
    "num_epochs = 3\n",
    "batch_size = 32\n",
    "config = Config()\n",
    "cnf = config.cnn_rnn._asdict()\n",
    "\n",
    "print(input_encoding.shape)\n",
    "print(cnf[\"input_shape\"])"
   ]
  },
  {
   "cell_type": "code",
   "execution_count": null,
   "metadata": {
    "scrolled": false
   },
   "outputs": [],
   "source": [
    "model = nn.cnn_rnn(**cnf)\n",
    "model.compile(loss=\"categorical_crossentropy\",\n",
    "              optimizer=\"adagrad\",\n",
    "              metrics=['accuracy'])\n",
    "model.summary()"
   ]
  },
  {
   "cell_type": "code",
   "execution_count": null,
   "metadata": {},
   "outputs": [],
   "source": [
    "model.fit(input_encoding, \n",
    "          output_encoding,\n",
    "          batch_size=batch_size,\n",
    "          epochs=num_epochs,\n",
    "          validation_split=0.1)"
   ]
  }
 ],
 "metadata": {
  "kernelspec": {
   "display_name": "Python 3",
   "language": "python",
   "name": "python3"
  },
  "language_info": {
   "codemirror_mode": {
    "name": "ipython",
    "version": 3
   },
   "file_extension": ".py",
   "mimetype": "text/x-python",
   "name": "python",
   "nbconvert_exporter": "python",
   "pygments_lexer": "ipython3",
   "version": "3.6.8"
  }
 },
 "nbformat": 4,
 "nbformat_minor": 2
}

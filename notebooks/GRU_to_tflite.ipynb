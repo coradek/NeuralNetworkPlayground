{
 "cells": [
  {
   "cell_type": "code",
   "execution_count": 24,
   "metadata": {},
   "outputs": [
    {
     "name": "stdout",
     "output_type": "stream",
     "text": [
      "The autoreload extension is already loaded. To reload it, use:\n",
      "  %reload_ext autoreload\n"
     ]
    }
   ],
   "source": [
    "%load_ext autoreload\n",
    "%autoreload 2\n",
    "\n",
    "import numpy as np\n",
    "import pandas as pd\n",
    "import tensorflow as tf\n",
    "from tensorflow.python.keras.models import load_model\n",
    "\n",
    "from src.nn_settings.simple_gru_parameters import Encoder\n"
   ]
  },
  {
   "cell_type": "code",
   "execution_count": 26,
   "metadata": {},
   "outputs": [],
   "source": [
    "# Save tf.keras model in HDF5 format.\n",
    "keras_file = \"../data/keras_rnn.h5\"\n",
    "tflite_file = \"../data/converted_rnn.tflite\"\n",
    "\n",
    "test_data = np.array( [['nqXitzlidgYidtbfupgnzlxcf', 'itzlidg'],\n",
    "                       ['li zo XnpdrYohtnpasa ', 'npdr'],\n",
    "                       ['jkjnqxmmurpXrarrexwYafpvzplg', 'rarrexw'],\n",
    "                       ['vpqmXmybvhYgnhrnbmipgipvzjygjyhgk', 'mybvh'],\n",
    "                       ['qdzobuX wyYbskevnq  lrsonedurbgww', ' wy']])\n",
    "\n",
    "char_string = \"abcdefghijklmnopqrstuvwxyz XY\"\n",
    "characters = [\"[STOP]\", \"[START]\", \"[UNK]\"] + [ch for ch in char_string]\n",
    "vocabulary_map = {}\n",
    "for ii, ch in enumerate(characters):\n",
    "    vocabulary_map[ch] = ii\n",
    "enc = Encoder(vocabulary_map, max_input_length=43, max_output_length=7)\n",
    "    \n",
    "model = load_model(keras_file)"
   ]
  },
  {
   "cell_type": "code",
   "execution_count": 28,
   "metadata": {},
   "outputs": [
    {
     "data": {
      "text/plain": [
       "array([b'iiiiiii', b'rrrrrrr', b'rrrrrrr', b'mmmmmmm', b'yyyyyyy'],\n",
       "      dtype='|S7')"
      ]
     },
     "execution_count": 28,
     "metadata": {},
     "output_type": "execute_result"
    }
   ],
   "source": [
    "## Demonstrate that the model does something\n",
    "test_data[:, 0]\n",
    "test_enc = enc.encode(test_data[:, 0], encode_as=\"input\")\n",
    "pred = model.predict(test_enc)\n",
    "enc.decode(pred, decode_as=\"output\")"
   ]
  },
  {
   "cell_type": "code",
   "execution_count": 29,
   "metadata": {},
   "outputs": [
    {
     "name": "stdout",
     "output_type": "stream",
     "text": [
      "INFO:tensorflow:Froze 5 variables.\n",
      "INFO:tensorflow:Converted 5 variables to const ops.\n"
     ]
    },
    {
     "ename": "ValueError",
     "evalue": "None is only supported in the 1st dimension. Tensor 'gru_1_input' has invalid shape '[None, None, 32]'.",
     "output_type": "error",
     "traceback": [
      "\u001b[0;31m---------------------------------------------------------------------------\u001b[0m",
      "\u001b[0;31mValueError\u001b[0m                                Traceback (most recent call last)",
      "\u001b[0;32m<ipython-input-29-d1fc55456bfd>\u001b[0m in \u001b[0;36m<module>\u001b[0;34m()\u001b[0m\n\u001b[1;32m      9\u001b[0m \u001b[0;34m\u001b[0m\u001b[0m\n\u001b[1;32m     10\u001b[0m \u001b[0;34m\u001b[0m\u001b[0m\n\u001b[0;32m---> 11\u001b[0;31m \u001b[0mtflite_model\u001b[0m \u001b[0;34m=\u001b[0m \u001b[0mconverter\u001b[0m\u001b[0;34m.\u001b[0m\u001b[0mconvert\u001b[0m\u001b[0;34m(\u001b[0m\u001b[0;34m)\u001b[0m\u001b[0;34m\u001b[0m\u001b[0;34m\u001b[0m\u001b[0m\n\u001b[0m\u001b[1;32m     12\u001b[0m \u001b[0mopen\u001b[0m\u001b[0;34m(\u001b[0m\u001b[0mtflite_file\u001b[0m\u001b[0;34m,\u001b[0m \u001b[0;34m\"wb\"\u001b[0m\u001b[0;34m)\u001b[0m\u001b[0;34m.\u001b[0m\u001b[0mwrite\u001b[0m\u001b[0;34m(\u001b[0m\u001b[0mtflite_model\u001b[0m\u001b[0;34m)\u001b[0m\u001b[0;34m\u001b[0m\u001b[0;34m\u001b[0m\u001b[0m\n",
      "\u001b[0;32m~/anaconda3/lib/python3.6/site-packages/tensorflow/contrib/lite/python/lite.py\u001b[0m in \u001b[0;36mconvert\u001b[0;34m(self)\u001b[0m\n\u001b[1;32m    407\u001b[0m           raise ValueError(\n\u001b[1;32m    408\u001b[0m               \u001b[0;34m\"None is only supported in the 1st dimension. Tensor '{0}' has \"\u001b[0m\u001b[0;34m\u001b[0m\u001b[0;34m\u001b[0m\u001b[0m\n\u001b[0;32m--> 409\u001b[0;31m               \"invalid shape '{1}'.\".format(_tensor_name(tensor), shape))\n\u001b[0m\u001b[1;32m    410\u001b[0m         \u001b[0;32melif\u001b[0m \u001b[0mshape\u001b[0m\u001b[0;34m[\u001b[0m\u001b[0;36m0\u001b[0m\u001b[0;34m]\u001b[0m \u001b[0;32mis\u001b[0m \u001b[0;32mNone\u001b[0m\u001b[0;34m:\u001b[0m\u001b[0;34m\u001b[0m\u001b[0;34m\u001b[0m\u001b[0m\n\u001b[1;32m    411\u001b[0m           \u001b[0mself\u001b[0m\u001b[0;34m.\u001b[0m\u001b[0m_set_batch_size\u001b[0m\u001b[0;34m(\u001b[0m\u001b[0mbatch_size\u001b[0m\u001b[0;34m=\u001b[0m\u001b[0;36m1\u001b[0m\u001b[0;34m)\u001b[0m\u001b[0;34m\u001b[0m\u001b[0;34m\u001b[0m\u001b[0m\n",
      "\u001b[0;31mValueError\u001b[0m: None is only supported in the 1st dimension. Tensor 'gru_1_input' has invalid shape '[None, None, 32]'."
     ]
    }
   ],
   "source": [
    "tf.keras.models.save_model(model, keras_file)\n",
    "\n",
    "## Convert to TensorFlow Lite model.\n",
    "## These docs describe the converter in the TensorFlow nightly release, installed using pip install tf-nightly\n",
    "# converter = tf.lite.TFLiteConverter.from_keras_model_file(keras_file)\n",
    "\n",
    "## For tensorflow 1.12 it should be \n",
    "converter = tf.contrib.lite.TFLiteConverter.from_keras_model_file(keras_file)\n",
    "\n",
    "\n",
    "tflite_model = converter.convert()\n",
    "open(tflite_file, \"wb\").write(tflite_model)"
   ]
  },
  {
   "cell_type": "markdown",
   "metadata": {},
   "source": [
    "# Check performance of tflite model"
   ]
  },
  {
   "cell_type": "code",
   "execution_count": null,
   "metadata": {},
   "outputs": [],
   "source": [
    "# Load TFLite model and allocate tensors.\n",
    "interpreter = tf.contrib.lite.Interpreter(model_path=tflite_file)\n",
    "interpreter.allocate_tensors()\n",
    "\n",
    "# Get input and output tensors.\n",
    "input_details = interpreter.get_input_details()\n",
    "output_details = interpreter.get_output_details()\n",
    "\n",
    "# Test model on random input data.\n",
    "input_shape = input_details[0]['shape']\n",
    "# change the following line to feed into your own data.\n",
    "input_data = np.array(np.random.random_sample(input_shape), dtype=np.float32)\n",
    "interpreter.set_tensor(input_details[0]['index'], input_data)\n",
    "\n",
    "interpreter.invoke()\n",
    "output_data = interpreter.get_tensor(output_details[0]['index'])\n",
    "print(output_data)"
   ]
  }
 ],
 "metadata": {
  "kernelspec": {
   "display_name": "Python 3",
   "language": "python",
   "name": "python3"
  },
  "language_info": {
   "codemirror_mode": {
    "name": "ipython",
    "version": 3
   },
   "file_extension": ".py",
   "mimetype": "text/x-python",
   "name": "python",
   "nbconvert_exporter": "python",
   "pygments_lexer": "ipython3",
   "version": "3.6.8"
  }
 },
 "nbformat": 4,
 "nbformat_minor": 2
}

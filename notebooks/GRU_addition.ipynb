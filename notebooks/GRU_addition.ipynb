{
 "cells": [
  {
   "cell_type": "code",
   "execution_count": null,
   "metadata": {},
   "outputs": [],
   "source": [
    "%load_ext autoreload\n",
    "%autoreload 2\n",
    "\n",
    "import os\n",
    "import numpy as np\n",
    "from tensorflow.python.keras.callbacks import ModelCheckpoint\n",
    "from tensorflow.python.keras.models import load_model\n",
    "from src.dataset_builders.text_data import create_addition_string_data\n",
    "# from src.nn_settings.simple_gru_parameters import Parameters, Encoder\n",
    "from src.simple_rnns import simple_gru, mikes_amount_rnn"
   ]
  },
  {
   "cell_type": "code",
   "execution_count": null,
   "metadata": {},
   "outputs": [],
   "source": [
    "# parameters = Parameters()\n",
    "data = parameters.data\n",
    "num_input_characters = parameters.num_input_characters\n",
    "num_output_characters = parameters.num_output_characters\n",
    "input_encoding = parameters.input_encoding\n",
    "output_encoding = parameters.output_encoding\n",
    "enc = parameters.encoder\n",
    "max_output_length = enc.max_output_length\n",
    "\n",
    "print(num_input_characters)\n",
    "print(len(data))\n",
    "data[:5]"
   ]
  },
  {
   "cell_type": "code",
   "execution_count": null,
   "metadata": {},
   "outputs": [],
   "source": [
    "batch_size = 32\n",
    "epochs = 2\n",
    "latent_dim = 16\n",
    "save_path = \"../data/keras_gru_stringaddition.h5\"\n",
    "\n",
    "\n",
    "## Simple GRU\n",
    "# model = simple_gru(num_input_characters,\n",
    "#                    num_output_characters,\n",
    "#                    latent_dim,\n",
    "#                    max_output_length,\n",
    "#                   )\n",
    "\n",
    "\n",
    "if not os.path.isfile(save_path):\n",
    "    print(\"Creating Model\")\n",
    "    model = simple_gru(num_input_characters,\n",
    "               num_output_characters,\n",
    "               latent_dim,\n",
    "               max_output_length,\n",
    "              )\n",
    "else:\n",
    "    print(\"Loading Model\")\n",
    "    model = load_model(save_path)\n",
    "\n",
    "# define the checkpoint\n",
    "checkpoint = ModelCheckpoint(save_path, \n",
    "                             monitor='loss', \n",
    "                             verbose=1, \n",
    "                             save_best_only=True, \n",
    "                             mode='min')\n",
    "callbacks_list = [checkpoint]\n",
    "\n",
    "print(model.summary())"
   ]
  },
  {
   "cell_type": "code",
   "execution_count": null,
   "metadata": {},
   "outputs": [],
   "source": [
    "model.fit(input_encoding, output_encoding,\n",
    "          batch_size=batch_size,\n",
    "          epochs=epochs,\n",
    "          validation_split=0.1)\n",
    "model.save(save_path)"
   ]
  },
  {
   "cell_type": "code",
   "execution_count": null,
   "metadata": {},
   "outputs": [],
   "source": [
    "test_str = \"42 + 42\"\n",
    "test_enc = enc.encode([test_str], )\n",
    "\n",
    "test_prediction = model.predict(test_enc)\n",
    "# print(test_prediction)\n",
    "test_result = enc.decode(test_prediction)\n",
    "test_result"
   ]
  }
 ],
 "metadata": {
  "kernelspec": {
   "display_name": "Python 3",
   "language": "python",
   "name": "python3"
  },
  "language_info": {
   "codemirror_mode": {
    "name": "ipython",
    "version": 3
   },
   "file_extension": ".py",
   "mimetype": "text/x-python",
   "name": "python",
   "nbconvert_exporter": "python",
   "pygments_lexer": "ipython3",
   "version": "3.6.8"
  }
 },
 "nbformat": 4,
 "nbformat_minor": 2
}

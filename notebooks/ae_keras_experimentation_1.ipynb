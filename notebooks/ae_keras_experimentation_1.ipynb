{
 "cells": [
  {
   "cell_type": "markdown",
   "metadata": {},
   "source": [
    "## A Place For Auto Encoder Scratch Work"
   ]
  },
  {
   "cell_type": "code",
   "execution_count": 3,
   "metadata": {},
   "outputs": [
    {
     "name": "stderr",
     "output_type": "stream",
     "text": [
      "/Users/ophidian/anaconda3/lib/python3.6/site-packages/h5py/__init__.py:36: FutureWarning: Conversion of the second argument of issubdtype from `float` to `np.floating` is deprecated. In future, it will be treated as `np.float64 == np.dtype(float).type`.\n",
      "  from ._conv import register_converters as _register_converters\n"
     ]
    },
    {
     "name": "stdout",
     "output_type": "stream",
     "text": [
      "(60000, 784)\n",
      "(10000, 784)\n"
     ]
    }
   ],
   "source": [
    "import numpy as np\n",
    "from src.mini_keras_ae import AE_0\n",
    "from tensorflow.python.keras.datasets import mnist\n",
    "from src.mini_keras_ae import *\n",
    "import matplotlib.pyplot as plt\n",
    "\n",
    "%autoreload 2\n",
    "\n",
    "## If you would like to play with the commented out \n",
    "## autoencoder code below uncomment these imports\n",
    "\n",
    "# from tensorflow.python.keras.models import Sequential\n",
    "# from tensorflow.python.keras.layers import Input, Dense, LeakyReLU\n",
    "# from tensorflow.python.keras.layers import Conv2D, Conv2DTranspose\n",
    "\n",
    "def show_reconstruction(model, img_set=x_test, n=233, m=3):\n",
    "    \"\"\"\n",
    "    Plot original and reconstructed images \n",
    "    for the n-th group of m images in the image set\n",
    "    \"\"\"\n",
    "    for ii in range(n*m, n*m+m):\n",
    "        img_ = img_set[ii]\n",
    "        res_ = model.predict(np.array([img_]))\n",
    "        f, (ax1, ax2) = plt.subplots(1,2)\n",
    "        ax1.imshow(np.reshape(img_, (28,28)), cmap='gray')\n",
    "        ax2.imshow(np.reshape(res_, (28,28)), cmap='gray')\n",
    "        plt.show()\n",
    "\n",
    "# Load Data:\n",
    "(x_train, _), (x_test, _) = mnist.load_data()\n",
    "\n",
    "# Normalize and Reshape Data:\n",
    "x_train = x_train.astype('float32') / 255.\n",
    "x_test = x_test.astype('float32') / 255.\n",
    "x_train = x_train.reshape((len(x_train), np.prod(x_train.shape[1:])))\n",
    "x_test = x_test.reshape((len(x_test), np.prod(x_test.shape[1:])))\n",
    "print(x_train.shape)\n",
    "print(x_test.shape)"
   ]
  },
  {
   "cell_type": "code",
   "execution_count": 23,
   "metadata": {},
   "outputs": [
    {
     "name": "stdout",
     "output_type": "stream",
     "text": [
      "Epoch 1/5\n",
      "60000/60000 [==============================]60000/60000 [==============================] - 20s 327us/step - loss: 0.0142\n",
      "\n",
      "Epoch 2/5\n",
      "60000/60000 [==============================]60000/60000 [==============================] - 20s 332us/step - loss: 0.0105\n",
      "\n",
      "Epoch 3/5\n",
      "60000/60000 [==============================]60000/60000 [==============================] - 18s 293us/step - loss: 0.0100\n",
      "\n",
      "Epoch 4/5\n",
      "60000/60000 [==============================]60000/60000 [==============================] - 17s 280us/step - loss: 0.0097\n",
      "\n",
      "Epoch 5/5\n",
      "60000/60000 [==============================]60000/60000 [==============================] - 17s 280us/step - loss: 0.0096\n",
      "\n"
     ]
    },
    {
     "data": {
      "text/plain": [
       "<tensorflow.python.keras._impl.keras.callbacks.History at 0x1363032b0>"
      ]
     },
     "execution_count": 23,
     "metadata": {},
     "output_type": "execute_result"
    }
   ],
   "source": [
    "IMG_SHAPE = 28*28*1\n",
    "BOTTLE_NECK = 50 # 10\n",
    "\n"
   ]
  },
  {
   "cell_type": "code",
   "execution_count": 17,
   "metadata": {
    "scrolled": false
   },
   "outputs": [
    {
     "name": "stdout",
     "output_type": "stream",
     "text": [
      "Epoch 1/2\n",
      "60000/60000 [==============================]60000/60000 [==============================] - 4s 64us/step - loss: 0.0387\n",
      "\n",
      "Epoch 2/2\n",
      "60000/60000 [==============================]60000/60000 [==============================] - 3s 56us/step - loss: 0.0332\n",
      "\n"
     ]
    },
    {
     "data": {
      "image/png": "[encoded data removed]",
      "text/plain": [
       "<matplotlib.figure.Figure at 0x133532d68>"
      ]
     },
     "metadata": {},
     "output_type": "display_data"
    },
    {
     "data": {
      "image/png": "[encoded data removed]",
      "text/plain": [
       "<matplotlib.figure.Figure at 0x133d65c88>"
      ]
     },
     "metadata": {},
     "output_type": "display_data"
    },
    {
     "data": {
      "image/png": "[encoded data removed]",
      "text/plain": [
       "<matplotlib.figure.Figure at 0x1334f76d8>"
      ]
     },
     "metadata": {},
     "output_type": "display_data"
    }
   ],
   "source": [
    "n = 233\n",
    "m = 3\n",
    "\n",
    "ae = AE_0().autoencoder\n",
    "ae.fit(x_train, x_train, batch_size=100, epochs=2)\n",
    "        \n",
    "show_reconstruction(ae)"
   ]
  },
  {
   "cell_type": "markdown",
   "metadata": {},
   "source": [
    "# Variations on a Theme by Keras\n",
    "randomly changing things in the name of experimentation\n",
    "\n",
    "## 1) convolution versus more denseness\n"
   ]
  },
  {
   "cell_type": "code",
   "execution_count": 21,
   "metadata": {
    "scrolled": false
   },
   "outputs": [
    {
     "name": "stdout",
     "output_type": "stream",
     "text": [
      "109108\n",
      "Epoch 1/5\n",
      "60000/60000 [==============================]60000/60000 [==============================] - 36s 608us/step - loss: 0.0302\n",
      "\n",
      "Epoch 2/5\n",
      "60000/60000 [==============================]60000/60000 [==============================] - 37s 612us/step - loss: 0.0250\n",
      "\n",
      "Epoch 3/5\n",
      "60000/60000 [==============================]60000/60000 [==============================] - 33s 549us/step - loss: 0.0238\n",
      "\n",
      "Epoch 4/5\n",
      "60000/60000 [==============================]60000/60000 [==============================] - 34s 570us/step - loss: 0.0232\n",
      "\n",
      "Epoch 5/5\n",
      "60000/60000 [==============================]60000/60000 [==============================] - 34s 567us/step - loss: 0.0228\n",
      "\n"
     ]
    },
    {
     "data": {
      "text/plain": [
       "<tensorflow.python.keras._impl.keras.callbacks.History at 0x135a91d30>"
      ]
     },
     "execution_count": 21,
     "metadata": {},
     "output_type": "execute_result"
    }
   ],
   "source": [
    "# reshape test train data for conv net\n",
    "\n",
    "x_train_c = np.reshape(x_train, (len(x_train), 28, 28, 1))\n",
    "x_test_c = np.reshape(x_test, (len(x_test), 28, 28, 1))\n",
    "M_conv = AE_conv_1()\n",
    "ae_conv = M_conv.autoencoder\n",
    "print(ae_conv.count_params())\n",
    "ae_conv.fit(x_train_c, x_train_c, batch_size=50, epochs=5)"
   ]
  },
  {
   "cell_type": "code",
   "execution_count": 22,
   "metadata": {
    "scrolled": false
   },
   "outputs": [
    {
     "name": "stdout",
     "output_type": "stream",
     "text": [
      "110394\n",
      "Epoch 1/5\n",
      "60000/60000 [==============================]60000/60000 [==============================] - 11s 183us/step - loss: 0.0380\n",
      "\n",
      "Epoch 2/5\n",
      "60000/60000 [==============================]60000/60000 [==============================] - 9s 146us/step - loss: 0.0328\n",
      "\n",
      "Epoch 3/5\n",
      "60000/60000 [==============================]60000/60000 [==============================] - 7s 112us/step - loss: 0.0325\n",
      "\n",
      "Epoch 4/5\n",
      "60000/60000 [==============================]60000/60000 [==============================] - 7s 110us/step - loss: 0.0324\n",
      "\n",
      "Epoch 5/5\n",
      "60000/60000 [==============================]60000/60000 [==============================] - 9s 157us/step - loss: 0.0323\n",
      "\n"
     ]
    },
    {
     "data": {
      "text/plain": [
       "<tensorflow.python.keras._impl.keras.callbacks.History at 0x136166ac8>"
      ]
     },
     "execution_count": 22,
     "metadata": {},
     "output_type": "execute_result"
    }
   ],
   "source": [
    "M_d = AE_dense_1()\n",
    "ae_dense = M_d.autoencoder\n",
    "print(ae_dense.count_params())\n",
    "ae_dense.fit(x_train, x_train, batch_size=50, epochs=5)"
   ]
  },
  {
   "cell_type": "code",
   "execution_count": 23,
   "metadata": {},
   "outputs": [
    {
     "data": {
      "image/png": "[encoded data removed]",
      "text/plain": [
       "<matplotlib.figure.Figure at 0x133e38898>"
      ]
     },
     "metadata": {},
     "output_type": "display_data"
    },
    {
     "data": {
      "image/png": "[encoded data removed]",
      "text/plain": [
       "<matplotlib.figure.Figure at 0x132ea47b8>"
      ]
     },
     "metadata": {},
     "output_type": "display_data"
    },
    {
     "data": {
      "image/png": "[encoded data removed]",
      "text/plain": [
       "<matplotlib.figure.Figure at 0x132951898>"
      ]
     },
     "metadata": {},
     "output_type": "display_data"
    },
    {
     "data": {
      "image/png": "[encoded data removed]",
      "text/plain": [
       "<matplotlib.figure.Figure at 0x13547c1d0>"
      ]
     },
     "metadata": {},
     "output_type": "display_data"
    },
    {
     "data": {
      "image/png": "[encoded data removed]",
      "text/plain": [
       "<matplotlib.figure.Figure at 0x136476470>"
      ]
     },
     "metadata": {},
     "output_type": "display_data"
    }
   ],
   "source": [
    "n = 233\n",
    "m = 5\n",
    "\n",
    "for ii in range(n*m, n*m+m):\n",
    "    img_ = x_test[ii]\n",
    "    img_c = x_test_c[ii]\n",
    "    res_c = ae_conv.predict(np.array([img_c]))\n",
    "    res_d = ae_dense.predict(np.array([img_]))\n",
    "    f, (ax1, ax2, ax3) = plt.subplots(1,3)\n",
    "    ax1.imshow(np.reshape(img_, (28,28)), cmap='gray')\n",
    "    ax2.imshow(np.reshape(res_d, (28,28)), cmap='gray')\n",
    "    ax3.imshow(np.reshape(res_c, (28,28)), cmap='gray')\n",
    "    plt.show()"
   ]
  },
  {
   "cell_type": "markdown",
   "metadata": {},
   "source": [
    "## TODO:\n",
    "\n",
    "- demo tensorboard\n",
    "- demo decoder for new image generation\n",
    "- demo encoder for image classification"
   ]
  },
  {
   "cell_type": "code",
   "execution_count": null,
   "metadata": {},
   "outputs": [],
   "source": []
  }
 ],
 "metadata": {
  "kernelspec": {
   "display_name": "Python 3",
   "language": "python",
   "name": "python3"
  },
  "language_info": {
   "codemirror_mode": {
    "name": "ipython",
    "version": 3
   },
   "file_extension": ".py",
   "mimetype": "text/x-python",
   "name": "python",
   "nbconvert_exporter": "python",
   "pygments_lexer": "ipython3",
   "version": "3.6.4"
  }
 },
 "nbformat": 4,
 "nbformat_minor": 2
}

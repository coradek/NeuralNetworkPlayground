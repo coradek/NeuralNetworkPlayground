{
 "cells": [
  {
   "cell_type": "markdown",
   "metadata": {},
   "source": [
    "## A bit about Autoencoders\n",
    "\n",
    "Autoencoders have two parts - an encoder that maps the input to a condensed internal representation (the bottleneck), and a decoder that attempts to convert the internal representation back to the original input. \n",
    "\n",
    "The full autoencoder is not used as such. Rather is is the separate encoder and decoder parts which are valuable. The goal of the autoencoder is the creation of the middle bottleneck vector, which distils the original input down to a simpler representation that preserves the information contained in the original input. In image masking inputs can be fed through the encoder layer to reduce the dimensionality of data, this representaion can then be used to find generally where the mask should be placed. In artificial image generation, a random vector can be fed through the decoder layer to create a new training image.\n",
    "\n",
    "Inspired by \n",
    "    * https://blog.keras.io/building-autoencoders-in-keras.html\n",
    "    * https://towardsdatascience.com/teaching-a-variational-autoencoder-vae-to-draw-mnist-characters-978675c95776"
   ]
  },
  {
   "cell_type": "code",
   "execution_count": 1,
   "metadata": {},
   "outputs": [
    {
     "name": "stderr",
     "output_type": "stream",
     "text": [
      "/Users/ophidian/anaconda3/lib/python3.6/site-packages/h5py/__init__.py:36: FutureWarning: Conversion of the second argument of issubdtype from `float` to `np.floating` is deprecated. In future, it will be treated as `np.float64 == np.dtype(float).type`.\n",
      "  from ._conv import register_converters as _register_converters\n"
     ]
    },
    {
     "name": "stdout",
     "output_type": "stream",
     "text": [
      "(60000, 784)\n",
      "(10000, 784)\n"
     ]
    }
   ],
   "source": [
    "import numpy as np\n",
    "from src.mini_keras_ae import AE_0\n",
    "from tensorflow.python.keras.datasets import mnist\n",
    "from src.mini_keras_ae import *\n",
    "import matplotlib.pyplot as plt\n",
    "\n",
    "%autoreload 2\n",
    "\n",
    "## If you would like to play with the commented out \n",
    "## autoencoder code below uncomment these imports\n",
    "\n",
    "# from tensorflow.python.keras.models import Sequential\n",
    "# from tensorflow.python.keras.layers import Input, Dense, LeakyReLU\n",
    "# from tensorflow.python.keras.layers import Conv2D, Conv2DTranspose\n",
    "\n",
    "# Load Data:\n",
    "(x_train, _), (x_test, _) = mnist.load_data()\n",
    "\n",
    "# Normalize and Reshape Data:\n",
    "x_train = x_train.astype('float32') / 255.\n",
    "x_test = x_test.astype('float32') / 255.\n",
    "x_train = x_train.reshape((len(x_train), np.prod(x_train.shape[1:])))\n",
    "x_test = x_test.reshape((len(x_test), np.prod(x_test.shape[1:])))\n",
    "print(x_train.shape)\n",
    "print(x_test.shape)"
   ]
  },
  {
   "cell_type": "code",
   "execution_count": 2,
   "metadata": {},
   "outputs": [
    {
     "name": "stdout",
     "output_type": "stream",
     "text": [
      "WARNING:tensorflow:From /Users/ophidian/anaconda3/lib/python3.6/site-packages/tensorflow/python/keras/_impl/keras/backend.py:1557: calling reduce_mean (from tensorflow.python.ops.math_ops) with keep_dims is deprecated and will be removed in a future version.\n",
      "Instructions for updating:\n",
      "keep_dims is deprecated, use keepdims instead\n",
      "Epoch 1/5\n",
      "60000/60000 [==============================]60000/60000 [==============================] - 17s 282us/step - loss: 0.0146\n",
      "\n",
      "Epoch 2/5\n",
      "60000/60000 [==============================]60000/60000 [==============================] - 17s 277us/step - loss: 0.0104\n",
      "\n",
      "Epoch 3/5\n",
      "60000/60000 [==============================]60000/60000 [==============================] - 18s 292us/step - loss: 0.0099\n",
      "\n",
      "Epoch 4/5\n",
      "60000/60000 [==============================]60000/60000 [==============================] - 18s 301us/step - loss: 0.0097\n",
      "\n",
      "Epoch 5/5\n",
      "60000/60000 [==============================]60000/60000 [==============================] - 18s 296us/step - loss: 0.0096\n",
      "\n"
     ]
    },
    {
     "data": {
      "text/plain": [
       "<tensorflow.python.keras._impl.keras.callbacks.History at 0x12a6fd898>"
      ]
     },
     "execution_count": 2,
     "metadata": {},
     "output_type": "execute_result"
    }
   ],
   "source": [
    "IMG_SHAPE = 28*28*1\n",
    "BOTTLE_NECK = 50 # 10\n",
    "\n",
    "\n",
    "M = AE_0(IMG_SHAPE, BOTTLE_NECK)\n",
    "ae = M.autoencoder\n",
    "\n",
    "## Trying out different combinations of layers, activations, etc\n",
    "## is an excellent way to get comfortable with Neural Networks\n",
    "## Comment out the two lines immediately above, uncomment the code below and start playing\n",
    "\n",
    "# encoder = Sequential([\n",
    "#                 Dense(BOTTLE_NECK, input_dim=INPUT_SHAPE),\n",
    "#                 LeakyReLU()\n",
    "#                 ])\n",
    "\n",
    "# decoder = Sequential([\n",
    "#                 Dense(INPUT_SHAPE, input_dim=BOTTLE_NECK),\n",
    "#                 LeakyReLU()\n",
    "#                 ])\n",
    "\n",
    "# ae = Sequential([encoder, decoder])\n",
    "# ae.compile(optimizer='adagrad',\n",
    "#            loss='mse',\n",
    "#           )\n",
    "\n",
    "ae.fit(x_train, x_train, batch_size=10, epochs=5)"
   ]
  },
  {
   "cell_type": "code",
   "execution_count": 3,
   "metadata": {
    "scrolled": false
   },
   "outputs": [
    {
     "data": {
      "image/png": "[encoded data removed]",
      "text/plain": [
       "<matplotlib.figure.Figure at 0x12ab526a0>"
      ]
     },
     "metadata": {},
     "output_type": "display_data"
    },
    {
     "data": {
      "image/png": "[encoded data removed]",
      "text/plain": [
       "<matplotlib.figure.Figure at 0x12ac6e9b0>"
      ]
     },
     "metadata": {},
     "output_type": "display_data"
    },
    {
     "data": {
      "image/png": "[encoded data removed]",
      "text/plain": [
       "<matplotlib.figure.Figure at 0x12ac9b5c0>"
      ]
     },
     "metadata": {},
     "output_type": "display_data"
    }
   ],
   "source": [
    "n = 233\n",
    "m = 3\n",
    "\n",
    "for ii in range(n*m, n*m+m):\n",
    "    img_ = x_test[ii]\n",
    "    res_ = ae.predict(np.array([img_]))\n",
    "    f, (ax1, ax2) = plt.subplots(1,2)\n",
    "    ax1.imshow(np.reshape(img_, (28,28)), cmap='gray')\n",
    "    ax2.imshow(np.reshape(res_, (28,28)), cmap='gray')\n",
    "    plt.show()"
   ]
  },
  {
   "cell_type": "markdown",
   "metadata": {},
   "source": [
    "# Variations on a Theme by Keras\n",
    "randomly changing things in the name of experimentation\n",
    "\n",
    "## comparison: convolution versus more denseness\n"
   ]
  },
  {
   "cell_type": "code",
   "execution_count": 4,
   "metadata": {
    "scrolled": false
   },
   "outputs": [
    {
     "name": "stdout",
     "output_type": "stream",
     "text": [
      "109108\n",
      "Epoch 1/5\n",
      "60000/60000 [==============================]60000/60000 [==============================] - 56s 930us/step - loss: 0.0283\n",
      "\n",
      "Epoch 2/5\n",
      "60000/60000 [==============================]60000/60000 [==============================] - 1008s 17ms/step - loss: 0.0243\n",
      "\n",
      "Epoch 3/5\n",
      "60000/60000 [==============================]60000/60000 [==============================] - 55s 924us/step - loss: 0.0231\n",
      "\n",
      "Epoch 4/5\n",
      "60000/60000 [==============================]60000/60000 [==============================] - 56s 929us/step - loss: 0.0224\n",
      "\n",
      "Epoch 5/5\n",
      "60000/60000 [==============================]60000/60000 [==============================] - 57s 945us/step - loss: 0.0219\n",
      "\n"
     ]
    },
    {
     "data": {
      "text/plain": [
       "<tensorflow.python.keras._impl.keras.callbacks.History at 0x12d1deac8>"
      ]
     },
     "execution_count": 4,
     "metadata": {},
     "output_type": "execute_result"
    }
   ],
   "source": [
    "# reshape test train data for conv net\n",
    "\n",
    "x_train_c = np.reshape(x_train, (len(x_train), 28, 28, 1))\n",
    "x_test_c = np.reshape(x_test, (len(x_test), 28, 28, 1))\n",
    "M_conv = AE_conv_1()\n",
    "ae_conv = M_conv.autoencoder\n",
    "print(ae_conv.count_params())\n",
    "ae_conv.fit(x_train_c, x_train_c, batch_size=10, epochs=5)"
   ]
  },
  {
   "cell_type": "code",
   "execution_count": 5,
   "metadata": {
    "scrolled": false
   },
   "outputs": [
    {
     "name": "stdout",
     "output_type": "stream",
     "text": [
      "110394\n",
      "Epoch 1/5\n",
      "60000/60000 [==============================]60000/60000 [==============================] - 20s 341us/step - loss: 0.0346\n",
      "\n",
      "Epoch 2/5\n",
      "60000/60000 [==============================]60000/60000 [==============================] - 20s 332us/step - loss: 0.0326\n",
      "\n",
      "Epoch 3/5\n",
      "60000/60000 [==============================]60000/60000 [==============================] - 20s 335us/step - loss: 0.0324\n",
      "\n",
      "Epoch 4/5\n",
      "60000/60000 [==============================]60000/60000 [==============================] - 20s 339us/step - loss: 0.0323\n",
      "\n",
      "Epoch 5/5\n",
      "60000/60000 [==============================]60000/60000 [==============================] - 21s 351us/step - loss: 0.0323\n",
      "\n"
     ]
    },
    {
     "data": {
      "text/plain": [
       "<tensorflow.python.keras._impl.keras.callbacks.History at 0x1038c8630>"
      ]
     },
     "execution_count": 5,
     "metadata": {},
     "output_type": "execute_result"
    }
   ],
   "source": [
    "M_d = AE_dense_1()\n",
    "ae_dense = M_d.autoencoder\n",
    "print(ae_dense.count_params())\n",
    "ae_dense.fit(x_train, x_train, batch_size=10, epochs=5)"
   ]
  },
  {
   "cell_type": "markdown",
   "metadata": {},
   "source": [
    "```\n",
    "Notice that compared to this dense autoencoder, the convolutional version is \n",
    "much more accurate and has fewer artifacts from unrelated digits after 5 epochs \n",
    "despite the fact that both models have approximately the same number of \n",
    "hyperparamteres.\n",
    "```"
   ]
  },
  {
   "cell_type": "code",
   "execution_count": 6,
   "metadata": {},
   "outputs": [
    {
     "data": {
      "image/png": "[encoded data removed]",
      "text/plain": [
       "<matplotlib.figure.Figure at 0x102fa8908>"
      ]
     },
     "metadata": {},
     "output_type": "display_data"
    },
    {
     "data": {
      "image/png": "[encoded data removed]",
      "text/plain": [
       "<matplotlib.figure.Figure at 0x12acc94a8>"
      ]
     },
     "metadata": {},
     "output_type": "display_data"
    },
    {
     "data": {
      "image/png": "[encoded data removed]",
      "text/plain": [
       "<matplotlib.figure.Figure at 0x12adaeba8>"
      ]
     },
     "metadata": {},
     "output_type": "display_data"
    },
    {
     "data": {
      "image/png": "[encoded data removed]",
      "text/plain": [
       "<matplotlib.figure.Figure at 0x12dc01f98>"
      ]
     },
     "metadata": {},
     "output_type": "display_data"
    },
    {
     "data": {
      "image/png": "[encoded data removed]",
      "text/plain": [
       "<matplotlib.figure.Figure at 0x11ee65048>"
      ]
     },
     "metadata": {},
     "output_type": "display_data"
    }
   ],
   "source": [
    "n = 233\n",
    "m = 5\n",
    "\n",
    "for ii in range(n*m, n*m+m):\n",
    "    img_ = x_test[ii]\n",
    "    img_c = x_test_c[ii]\n",
    "    res_c = ae_conv.predict(np.array([img_c]))\n",
    "    res_d = ae_dense.predict(np.array([img_]))\n",
    "    f, (ax1, ax2, ax3) = plt.subplots(1,3)\n",
    "    ax1.imshow(np.reshape(img_, (28,28)), cmap='gray')\n",
    "    ax2.imshow(np.reshape(res_d, (28,28)), cmap='gray')\n",
    "    ax3.imshow(np.reshape(res_c, (28,28)), cmap='gray')\n",
    "    plt.show()"
   ]
  },
  {
   "cell_type": "markdown",
   "metadata": {},
   "source": [
    "## TODO:\n",
    "\n",
    "- demo tensorboard\n",
    "- demo decoder for new image generation\n",
    "- demo encoder for image classification"
   ]
  },
  {
   "cell_type": "code",
   "execution_count": null,
   "metadata": {},
   "outputs": [],
   "source": []
  }
 ],
 "metadata": {
  "kernelspec": {
   "display_name": "Python 3",
   "language": "python",
   "name": "python3"
  },
  "language_info": {
   "codemirror_mode": {
    "name": "ipython",
    "version": 3
   },
   "file_extension": ".py",
   "mimetype": "text/x-python",
   "name": "python",
   "nbconvert_exporter": "python",
   "pygments_lexer": "ipython3",
   "version": "3.6.4"
  }
 },
 "nbformat": 4,
 "nbformat_minor": 2
}

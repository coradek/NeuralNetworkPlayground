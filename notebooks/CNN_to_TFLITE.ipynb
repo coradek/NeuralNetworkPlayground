{
 "cells": [
  {
   "cell_type": "code",
   "execution_count": 1,
   "metadata": {},
   "outputs": [
    {
     "name": "stderr",
     "output_type": "stream",
     "text": [
      "/Users/i862304/anaconda3/lib/python3.6/site-packages/h5py/__init__.py:34: FutureWarning: Conversion of the second argument of issubdtype from `float` to `np.floating` is deprecated. In future, it will be treated as `np.float64 == np.dtype(float).type`.\n",
      "  from ._conv import register_converters as _register_converters\n"
     ]
    },
    {
     "name": "stdout",
     "output_type": "stream",
     "text": [
      "(60000, 28, 28)\n",
      "(10000, 28, 28)\n",
      "(60000, 10)\n",
      "(10000, 10)\n",
      "\n",
      "final shape (x_train): (60000, 28, 28, 1)\n",
      "final shape (x_test): (10000, 28, 28, 1)\n",
      "final shape (y_train): (60000, 10)\n",
      "final shape (y_test): (10000, 10)\n",
      "\n"
     ]
    }
   ],
   "source": [
    "%load_ext autoreload\n",
    "%autoreload 2\n",
    "\n",
    "import numpy as np\n",
    "import pandas as pd\n",
    "import tensorflow as tf\n",
    "import matplotlib.pyplot as plt\n",
    "\n",
    "from src.dataset_builders import Mnist\n",
    "from src.simple_cnn import SimpleCNN\n",
    "\n",
    "BATCH_SIZE = 10\n",
    "EPOCHS = 2\n",
    "\n",
    "data = Mnist()\n",
    "IMG_SHAPE = data.IMG_SHAPE\n",
    "NUM_CLASSES = data.NUM_CLASSES\n",
    "x_train = data.x_train\n",
    "x_test = data.x_test\n",
    "y_train = data.y_train\n",
    "y_test = data.y_test\n"
   ]
  },
  {
   "cell_type": "markdown",
   "metadata": {},
   "source": [
    "# Train a Model"
   ]
  },
  {
   "cell_type": "code",
   "execution_count": 2,
   "metadata": {},
   "outputs": [
    {
     "name": "stdout",
     "output_type": "stream",
     "text": [
      "Epoch 1/2\n",
      "60000/60000 [==============================] - 94s 2ms/step - loss: 0.3322 - acc: 0.8974\n",
      "Epoch 2/2\n",
      "60000/60000 [==============================] - 82s 1ms/step - loss: 0.1949 - acc: 0.9422\n"
     ]
    },
    {
     "data": {
      "image/png": "[encoded data removed]",
      "text/plain": [
       "<matplotlib.figure.Figure at 0x18387973c8>"
      ]
     },
     "metadata": {},
     "output_type": "display_data"
    }
   ],
   "source": [
    "DIMS = [16, 16, 64]\n",
    "M = SimpleCNN(IMG_SHAPE, NUM_CLASSES, dims=DIMS)\n",
    "cnn = M.cnn\n",
    "cnn.fit(x_train, y_train, batch_size=BATCH_SIZE, epochs=EPOCHS)\n",
    "\n",
    "temp_x = np.random.random((1,28,28,1))\n",
    "temp_pred_arr = cnn.predict(temp_x)\n",
    "temp_pred = temp_pred_arr.argmax()\n",
    "temp_pred\n",
    "\n",
    "def show(img, pred):\n",
    "    img = img.reshape((28, 28))\n",
    "    plt.title(\"pred: {}\".format(pred))\n",
    "    plt.imshow(img, cmap='Greys')\n",
    "    plt.show\n",
    "    \n",
    "show(temp_x, temp_pred)"
   ]
  },
  {
   "cell_type": "code",
   "execution_count": 3,
   "metadata": {},
   "outputs": [
    {
     "name": "stdout",
     "output_type": "stream",
     "text": [
      "1.12.0\n"
     ]
    }
   ],
   "source": [
    "print(tf.__version__)"
   ]
  },
  {
   "cell_type": "markdown",
   "metadata": {},
   "source": [
    "# Save and Convert to TFlite"
   ]
  },
  {
   "cell_type": "code",
   "execution_count": 4,
   "metadata": {},
   "outputs": [
    {
     "name": "stdout",
     "output_type": "stream",
     "text": [
      "INFO:tensorflow:Froze 8 variables.\n",
      "INFO:tensorflow:Converted 8 variables to const ops.\n"
     ]
    },
    {
     "data": {
      "text/plain": [
       "604548"
      ]
     },
     "execution_count": 4,
     "metadata": {},
     "output_type": "execute_result"
    }
   ],
   "source": [
    "# Save tf.keras model in HDF5 format.\n",
    "keras_file = \"../data/keras_model.h5\"\n",
    "tflite_file = \"../data/converted_model.tflite\"\n",
    "\n",
    "tf.keras.models.save_model(cnn, keras_file)\n",
    "\n",
    "## Convert to TensorFlow Lite model.\n",
    "## These docs describe the converter in the TensorFlow nightly release, installed using pip install tf-nightly\n",
    "# converter = tf.lite.TFLiteConverter.from_keras_model_file(keras_file)\n",
    "\n",
    "## For tensorflow 1.12 it should be \n",
    "converter = tf.contrib.lite.TFLiteConverter.from_keras_model_file(keras_file)\n",
    "\n",
    "\n",
    "tflite_model = converter.convert()\n",
    "open(tflite_file, \"wb\").write(tflite_model)"
   ]
  },
  {
   "cell_type": "markdown",
   "metadata": {},
   "source": [
    "# Check performance of saved tflite model"
   ]
  },
  {
   "cell_type": "code",
   "execution_count": 14,
   "metadata": {},
   "outputs": [
    {
     "name": "stdout",
     "output_type": "stream",
     "text": [
      "[[0.05287444 0.01230805 0.07126556 0.03165751 0.07350218 0.11480799\n",
      "  0.42633265 0.01499521 0.17333022 0.02892617]]\n"
     ]
    }
   ],
   "source": [
    "# Load TFLite model and allocate tensors.\n",
    "interpreter = tf.contrib.lite.Interpreter(model_path=tflite_file)\n",
    "interpreter.allocate_tensors()\n",
    "\n",
    "# Get input and output tensors.\n",
    "input_details = interpreter.get_input_details()\n",
    "output_details = interpreter.get_output_details()\n",
    "\n",
    "# Test model on random input data.\n",
    "input_shape = input_details[0]['shape']\n",
    "# change the following line to feed into your own data.\n",
    "input_data = np.array(np.random.random_sample(input_shape), dtype=np.float32)\n",
    "interpreter.set_tensor(input_details[0]['index'], input_data)\n",
    "\n",
    "interpreter.invoke()\n",
    "output_data = interpreter.get_tensor(output_details[0]['index'])\n",
    "print(output_data)"
   ]
  },
  {
   "cell_type": "code",
   "execution_count": null,
   "metadata": {},
   "outputs": [],
   "source": []
  },
  {
   "cell_type": "markdown",
   "metadata": {},
   "source": [
    "# Test the TFLite Model"
   ]
  },
  {
   "cell_type": "code",
   "execution_count": 28,
   "metadata": {},
   "outputs": [
    {
     "name": "stdout",
     "output_type": "stream",
     "text": [
      "4\n",
      "4\n",
      "0.9992206\n"
     ]
    }
   ],
   "source": [
    "\n",
    "def test_tflite_model(datum):\n",
    "    \"\"\"run one datapoint through tflite model\n",
    "    \n",
    "    Pretty sure there is a prettier/more concise way to do this\n",
    "    But I'll worry about finding it later\n",
    "    \"\"\"\n",
    "    # Load TFLite model and allocate tensors.\n",
    "    interpreter = tf.contrib.lite.Interpreter(model_path=tflite_file)\n",
    "    interpreter.allocate_tensors()\n",
    "\n",
    "    # Get input and output tensors.\n",
    "    input_details = interpreter.get_input_details()\n",
    "    output_details = interpreter.get_output_details()\n",
    "\n",
    "    # Test model on random input data.\n",
    "    input_shape = input_details[0]['shape']\n",
    "    input_data = np.array(datum.reshape(input_shape))\n",
    "    interpreter.set_tensor(input_details[0]['index'], input_data)\n",
    "\n",
    "    interpreter.invoke()\n",
    "    output_data = interpreter.get_tensor(output_details[0]['index'])\n",
    "    # print(output_data)\n",
    "    return output_data\n",
    "\n",
    "n=42\n",
    "print(y_test[n].argmax())\n",
    "print(test_tflite_model(x_test[n]).argmax())\n",
    "print(test_tflite_model(x_test[n]).max())\n",
    "\n"
   ]
  },
  {
   "cell_type": "code",
   "execution_count": 47,
   "metadata": {},
   "outputs": [
    {
     "data": {
      "text/html": [
       "<div>\n",
       "<style scoped>\n",
       "    .dataframe tbody tr th:only-of-type {\n",
       "        vertical-align: middle;\n",
       "    }\n",
       "\n",
       "    .dataframe tbody tr th {\n",
       "        vertical-align: top;\n",
       "    }\n",
       "\n",
       "    .dataframe thead th {\n",
       "        text-align: right;\n",
       "    }\n",
       "</style>\n",
       "<table border=\"1\" class=\"dataframe\">\n",
       "  <thead>\n",
       "    <tr style=\"text-align: right;\">\n",
       "      <th></th>\n",
       "      <th>truth</th>\n",
       "      <th>prediction</th>\n",
       "      <th>score</th>\n",
       "    </tr>\n",
       "  </thead>\n",
       "  <tbody>\n",
       "    <tr>\n",
       "      <th>0</th>\n",
       "      <td>7</td>\n",
       "      <td>7</td>\n",
       "      <td>0.999989</td>\n",
       "    </tr>\n",
       "    <tr>\n",
       "      <th>1</th>\n",
       "      <td>2</td>\n",
       "      <td>2</td>\n",
       "      <td>0.999977</td>\n",
       "    </tr>\n",
       "    <tr>\n",
       "      <th>2</th>\n",
       "      <td>1</td>\n",
       "      <td>1</td>\n",
       "      <td>0.999849</td>\n",
       "    </tr>\n",
       "    <tr>\n",
       "      <th>3</th>\n",
       "      <td>0</td>\n",
       "      <td>0</td>\n",
       "      <td>0.999861</td>\n",
       "    </tr>\n",
       "    <tr>\n",
       "      <th>4</th>\n",
       "      <td>4</td>\n",
       "      <td>4</td>\n",
       "      <td>0.999601</td>\n",
       "    </tr>\n",
       "  </tbody>\n",
       "</table>\n",
       "</div>"
      ],
      "text/plain": [
       "   truth  prediction     score\n",
       "0      7           7  0.999989\n",
       "1      2           2  0.999977\n",
       "2      1           1  0.999849\n",
       "3      0           0  0.999861\n",
       "4      4           4  0.999601"
      ]
     },
     "execution_count": 47,
     "metadata": {},
     "output_type": "execute_result"
    }
   ],
   "source": [
    "## Gotta be a better way to do this too\n",
    "results = np.array([test_tflite_model(xx) for xx in x_test])\n",
    "results = results.reshape(10000, 10)\n",
    "\n",
    "df = pd.DataFrame({\"truth\": np.argmax(y_test, axis=1),\n",
    "                   \"prediction\": np.argmax(results, axis=1),\n",
    "                   \"score\": np.amax(results, axis=1),                   \n",
    "                  })\n",
    "df.head()"
   ]
  }
 ],
 "metadata": {
  "kernelspec": {
   "display_name": "Python 3",
   "language": "python",
   "name": "python3"
  },
  "language_info": {
   "codemirror_mode": {
    "name": "ipython",
    "version": 3
   },
   "file_extension": ".py",
   "mimetype": "text/x-python",
   "name": "python",
   "nbconvert_exporter": "python",
   "pygments_lexer": "ipython3",
   "version": "3.6.8"
  }
 },
 "nbformat": 4,
 "nbformat_minor": 2
}

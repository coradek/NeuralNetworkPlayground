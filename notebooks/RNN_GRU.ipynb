{
 "cells": [
  {
   "cell_type": "code",
   "execution_count": 1,
   "metadata": {},
   "outputs": [
    {
     "name": "stdout",
     "output_type": "stream",
     "text": [
      "Creating Data set\n",
      "Building Vocabulary\n",
      "Building Encodings\n"
     ]
    }
   ],
   "source": [
    "import numpy as np\n",
    "# from src.simple_rnns import simple_gru_model\n",
    "from src.dataset_builders.text_data import create_easy_token_extraction_data\n",
    "from src.nn_settings.simple_gru_parameters import (\n",
    "    data, \n",
    "    batch_size, \n",
    "    num_input_characters,\n",
    "    epochs,\n",
    "    latent_dim,\n",
    "    input_encoding, \n",
    "    output_encoding, \n",
    "    )\n",
    "\n",
    "# import numpy as np\n",
    "# from tensorflow.python.keras.datasets import mnist\n",
    "\n",
    "%autoreload 2"
   ]
  },
  {
   "cell_type": "code",
   "execution_count": null,
   "metadata": {},
   "outputs": [],
   "source": [
    "# characters = set(cc for cc in \"abcdefghijklmnopXY\")\n",
    "# data = create_easy_token_extraction_data(data_size=50000)\n",
    "# print(len(data))\n",
    "# data[:5]"
   ]
  },
  {
   "cell_type": "code",
   "execution_count": 4,
   "metadata": {},
   "outputs": [
    {
     "name": "stdout",
     "output_type": "stream",
     "text": [
      "Python 3.7.0\r\n"
     ]
    }
   ],
   "source": [
    "!python --version"
   ]
  },
  {
   "cell_type": "code",
   "execution_count": 2,
   "metadata": {},
   "outputs": [
    {
     "name": "stdout",
     "output_type": "stream",
     "text": [
      "50000\n"
     ]
    },
    {
     "data": {
      "text/plain": [
       "array([['nhljnXgigceYaehmjgkfpobi', 'gigce'],\n",
       "       ['phffkoodlkXofnYekdjnmbhgcahbacio', 'ofn'],\n",
       "       ['jebiagkccgXiihfkgYbpdabbbn', 'iihfkg'],\n",
       "       ['jhdjjglXepcfYnlldpkoed', 'epcf'],\n",
       "       ['jbhnmblXgbjnYiaheip', 'gbjn']], dtype='<U43')"
      ]
     },
     "execution_count": 2,
     "metadata": {},
     "output_type": "execute_result"
    }
   ],
   "source": [
    "print(num_input_characters)\n",
    "\n",
    "print(len(data))\n",
    "data[:5]"
   ]
  },
  {
   "cell_type": "code",
   "execution_count": 5,
   "metadata": {},
   "outputs": [
    {
     "data": {
      "text/plain": [
       "21"
      ]
     },
     "execution_count": 5,
     "metadata": {},
     "output_type": "execute_result"
    }
   ],
   "source": []
  },
  {
   "cell_type": "code",
   "execution_count": null,
   "metadata": {},
   "outputs": [],
   "source": [
    "voc_len = len(characters)\n",
    "model = simple_gru_model(voc_len +3,\n",
    "                         voc_len,\n",
    "                         8)\n",
    "\n",
    "# Run training\n",
    "model.compile(optimizer='rmsprop', loss='categorical_crossentropy')\n",
    "model.fit([encoder_input_data, decoder_input_data], decoder_target_data,\n",
    "          batch_size=batch_size,\n",
    "          epochs=epochs,\n",
    "          validation_split=0.2)"
   ]
  },
  {
   "cell_type": "code",
   "execution_count": null,
   "metadata": {},
   "outputs": [],
   "source": [
    "from src.simple_rnns import lazy_gru_model\n"
   ]
  },
  {
   "cell_type": "code",
   "execution_count": null,
   "metadata": {},
   "outputs": [],
   "source": [
    "lazy_gru_model(num_input_characters, latent_dim)"
   ]
  },
  {
   "cell_type": "code",
   "execution_count": null,
   "metadata": {},
   "outputs": [],
   "source": [
    "len(\"#######################################\")"
   ]
  }
 ],
 "metadata": {
  "kernelspec": {
   "display_name": "NeuralNetworkPlayground",
   "language": "python",
   "name": "neuralnetworkplayground"
  },
  "language_info": {
   "codemirror_mode": {
    "name": "ipython",
    "version": 3
   },
   "file_extension": ".py",
   "mimetype": "text/x-python",
   "name": "python",
   "nbconvert_exporter": "python",
   "pygments_lexer": "ipython3",
   "version": "3.6.7"
  }
 },
 "nbformat": 4,
 "nbformat_minor": 2
}

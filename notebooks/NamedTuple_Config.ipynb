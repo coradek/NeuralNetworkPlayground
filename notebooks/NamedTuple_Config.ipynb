{
 "cells": [
  {
   "cell_type": "code",
   "execution_count": 60,
   "metadata": {},
   "outputs": [
    {
     "name": "stdout",
     "output_type": "stream",
     "text": [
      "The autoreload extension is already loaded. To reload it, use:\n",
      "  %reload_ext autoreload\n"
     ]
    }
   ],
   "source": [
    "%load_ext autoreload\n",
    "%autoreload 2\n",
    "\n",
    "import inspect\n",
    "from typing import NamedTuple, Union, Callable\n",
    "from src.dataset_builders.text_data import create_easy_token_extraction_data\n",
    "from src.nn_utils.rnn_encoder import Encoder"
   ]
  },
  {
   "cell_type": "markdown",
   "metadata": {},
   "source": [
    "# Simple example"
   ]
  },
  {
   "cell_type": "code",
   "execution_count": 154,
   "metadata": {},
   "outputs": [
    {
     "name": "stdout",
     "output_type": "stream",
     "text": [
      "preparing Config\n",
      "running param_maker\n",
      "Config Done\n",
      "\n",
      "preparing Config_1\n",
      "Config Done\n",
      "\n"
     ]
    }
   ],
   "source": [
    "def param_maker(foo, bar):\n",
    "    print(\"running param_maker\")\n",
    "    param = {str(foo): 0,\n",
    "             str(bar): 1,\n",
    "            }\n",
    "    return param\n",
    "    \n",
    "def func(foo=5, bar=\"nope\", **kwargs):\n",
    "    print( 10+foo, bar*2)\n",
    "    # print(param_from_function.keys())\n",
    "\n",
    "class Config(NamedTuple):\n",
    "    print(\"preparing Config\")\n",
    "    bar: str = \"BAR\"\n",
    "    foo: int = 25\n",
    "    param_from_function: dict = param_maker(foo, bar)\n",
    "    print(\"Config Done\\n\")\n",
    "    \n",
    "\n",
    "class Config_1(NamedTuple):\n",
    "    print(\"preparing Config_1\")\n",
    "    bar: str = \"BAR\"\n",
    "    foo: int = 25\n",
    "    param_func: Callable = param_maker\n",
    "    param_from_function: dict = None #param_func(foo, bar)\n",
    "    print(\"Config Done\\n\")\n",
    "\n",
    "\n",
    "## Ugly, but at least it works\n",
    "class Config_2(Config_1):\n",
    "    def activate(self):\n",
    "        conf_dict = self._asdict()\n",
    "        conf_dict[\"param_from_function\"] = self.param_func(self.foo, self.bar)\n",
    "        conf = Config_1(**conf_dict)\n",
    "        return conf\n",
    "\n",
    "        \n",
    "class Config_3:\n",
    "    ## pass in **cnf (where cnf is an instance of Config_1)\n",
    "    def __init__(self, **kwargs):\n",
    "        print(\"Initializing Config_3\")\n",
    "        cnf = Config_1(**kwargs)\n",
    "        cnf_dict = cnf._asdict()\n",
    "        \n",
    "        print(\"Activating Config_3\")\n",
    "        cnf_dict[\"param_from_function\"] = cnf.param_func(cnf.foo, cnf.bar)\n",
    "        \n",
    "        for item in cnf_dict.items():\n",
    "            setattr(self, *item)\n",
    "        print()\n",
    "        \n",
    "        \n",
    "\n"
   ]
  },
  {
   "cell_type": "code",
   "execution_count": 166,
   "metadata": {},
   "outputs": [
    {
     "name": "stdout",
     "output_type": "stream",
     "text": [
      "preparing Config_4\n",
      "Initializing/Acitvating Config_4\n",
      "running param_maker\n",
      "Config_4 Done\n",
      "\n"
     ]
    },
    {
     "data": {
      "text/plain": [
       "{'100': 0, 'yep': 1}"
      ]
     },
     "execution_count": 166,
     "metadata": {},
     "output_type": "execute_result"
    }
   ],
   "source": [
    "## Yet Another way to instantiate a Config Object\n",
    "\n",
    "class Config_4:\n",
    "    print(\"preparing Config_4\")\n",
    "    bar = \"BAR\"\n",
    "    foo = 25\n",
    "    # param_func = param_maker\n",
    "    param_from_function = None #param_func(foo, bar)\n",
    "\n",
    "    def __init__(self, **kwargs):\n",
    "        print(\"Initializing/Acitvating Config_4\")\n",
    "        for item in kwargs.items():\n",
    "            setattr(self, *item)\n",
    "        foo = self.foo\n",
    "        bar = self.bar\n",
    "        param_func = self.param_func\n",
    "        self.param_from_function = param_func(foo, bar)\n",
    "        print(\"Config_4 Done\\n\")\n",
    "    \n",
    "    def param_func(self, foo, bar):\n",
    "        param = param_maker(foo, bar)\n",
    "        return param\n",
    "    \n",
    "cnf = Config_4(foo=100, bar=\"yep\")\n",
    "\n",
    "cnf.param_from_function"
   ]
  },
  {
   "cell_type": "markdown",
   "metadata": {},
   "source": [
    "# Question:\n",
    "```\n",
    "Any way to get NamedTuple (or other config object) to run functions on instansiation? / only on instantiation?\n",
    "```"
   ]
  },
  {
   "cell_type": "code",
   "execution_count": 146,
   "metadata": {},
   "outputs": [
    {
     "name": "stdout",
     "output_type": "stream",
     "text": [
      "param_from_function in instance of Config\n",
      "{'25': 0, 'BAR': 1} \n",
      "\n",
      "\n",
      "running param_maker\n",
      "{'100': 0, 'yep': 1}\n",
      "------------------------------ \n",
      "\n",
      "Initializing/Acitvating Config_4\n",
      "val yep\n",
      "arg bar\n",
      "kwargs {'foo': 100, 'bar': 'yep'}\n",
      "Config_4 Done\n",
      "\n",
      "param_from_function in instance of Config_4\n",
      "None \n",
      "\n"
     ]
    }
   ],
   "source": [
    "# Both statements below should produce\n",
    "# {'100': 0, 'yep': 1}\n",
    "\n",
    "\n",
    "# Config Does not run funcs with passed values\n",
    "cnf = Config(foo=100, bar=\"yep\")\n",
    "print(\"param_from_function in instance of Config\")\n",
    "print(cnf.param_from_function, \"\\n\")\n",
    "\n",
    "print()\n",
    "print(param_maker(cnf.foo, cnf.bar))\n",
    "\n",
    "\n",
    "## Config_2\n",
    "## Two steps and the neccessity of writing a somewhat clunky activation function\n",
    "## But a single class instantiation\n",
    "# print(\"-\"*30, \"\\n\")\n",
    "# print(\"Config_2\")\n",
    "# cnf = Config_2(foo=100, bar=\"yep\")\n",
    "# print(\"in cnf UNactivated instance of Config_2\")\n",
    "# print(cnf.param_from_function, \"\\n\")\n",
    "\n",
    "# print(\"in cnf activated instance of Config_2\")\n",
    "# cnf = cnf.activate()\n",
    "# print(cnf.param_from_function, \"\\n\")\n",
    "\n",
    "\n",
    "## Config_3\n",
    "## One instantiation, no need for separate activation\n",
    "## requires writing a funny looking __init__\n",
    "## loose NamedTuple immutability\n",
    "# print(\"-\"*30, \"\\n\")\n",
    "# cnf = Config_3(foo=100, bar=\"yep\")\n",
    "# print(\"param_from_function in instance of Config_3\")\n",
    "# print(cnf.param_from_function, \"\\n\")\n",
    "\n",
    "\n",
    "## Config_4\n",
    "## \n",
    "print(\"-\"*30, \"\\n\")\n",
    "cnf = Config_4(foo=100, bar=\"yep\")\n",
    "print(\"param_from_function in instance of Config_4\")\n",
    "print(cnf.param_from_function, \"\\n\")"
   ]
  },
  {
   "cell_type": "markdown",
   "metadata": {},
   "source": [
    "# More Realish Example"
   ]
  },
  {
   "cell_type": "code",
   "execution_count": null,
   "metadata": {},
   "outputs": [],
   "source": [
    "def build_vocab(voc_input, build_from=\"string\"):\n",
    "    # characters: list = [\"[STOP]\", \"[START]\", \"[UNK]\"]\n",
    "    # characters: list = [\"[PAD]\", \"[STOP]\", \"[START]\", \"[UNK]\"]\n",
    "    characters: list = [\"[STOP]\", \"[UNK]\"]\n",
    "    if build_from == \"string\":\n",
    "        characters += [ch for ch in voc_input]\n",
    "        vocabulary: dict = {}\n",
    "        for ii, ch in enumerate(characters):\n",
    "            vocabulary[ch] = ii\n",
    "    else:\n",
    "        print(\"build_from must be one of ['string']\")\n",
    "    return vocabulary\n",
    "\n",
    "class DataConfig(NamedTuple):\n",
    "    data_size: int = 50000\n",
    "    char_string: str = \"abcdeXY\"\n",
    "    prefix_len_range: tuple = (2,3)\n",
    "    suffix_len_range: tuple = (2,3)\n",
    "    token_len_range: tuple = (2,3)\n",
    "    \n",
    "# class EncoderConfig(NamedTuple):\n",
    "#     pass\n",
    "\n",
    "class NNConfig(NamedTuple):\n",
    "   \n",
    "    batch_size = 32  # Batch size for training.\n",
    "    epochs = 900  # Number of epochs to train for.\n",
    "    latent_dim = 16  # Latent dimensionality of the encoding space.\n",
    "    \n",
    "    print(\"Creating Data set\")\n",
    "    data_config = DataConfig()\n",
    "    data = create_easy_token_extraction_data(**data_config._asdict())\n",
    "\n",
    "    print(\"Building Vocabulary\")\n",
    "    vocabulary_map: dict = build_vocab(data_config.char_string)\n",
    "    num_input_characters: int = len(vocabulary_map)\n",
    "    num_output_characters: int = num_input_characters\n",
    "    \n",
    "    print(\"Building Encoding\")\n",
    "    encoder = Encoder(vocabulary_map)\n",
    "    input_encoding = encoder.encode(data[:, 0], encode_as=\"input\")\n",
    "    output_encoding = encoder.encode(data[:, 1], encode_as=\"output\")\n"
   ]
  }
 ],
 "metadata": {
  "kernelspec": {
   "display_name": "Python 3",
   "language": "python",
   "name": "python3"
  },
  "language_info": {
   "codemirror_mode": {
    "name": "ipython",
    "version": 3
   },
   "file_extension": ".py",
   "mimetype": "text/x-python",
   "name": "python",
   "nbconvert_exporter": "python",
   "pygments_lexer": "ipython3",
   "version": "3.6.8"
  }
 },
 "nbformat": 4,
 "nbformat_minor": 2
}
